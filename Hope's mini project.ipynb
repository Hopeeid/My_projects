{
 "cells": [
  {
   "cell_type": "code",
   "execution_count": 54,
   "id": "a0227aad",
   "metadata": {},
   "outputs": [],
   "source": [
    "import warnings\n",
    "warnings.filterwarnings('ignore')"
   ]
  },
  {
   "cell_type": "code",
   "execution_count": 55,
   "id": "c75d9375",
   "metadata": {},
   "outputs": [
    {
     "name": "stdout",
     "output_type": "stream",
     "text": [
      "Setup Complete\n"
     ]
    }
   ],
   "source": [
    "import pandas as pd\n",
    "pd.plotting.register_matplotlib_converters()\n",
    "import matplotlib.pyplot as plt\n",
    "%matplotlib inline\n",
    "import seaborn as sns\n",
    "print(\"Setup Complete\");"
   ]
  },
  {
   "cell_type": "code",
   "execution_count": 100,
   "id": "df5d4262",
   "metadata": {},
   "outputs": [
    {
     "data": {
      "text/html": [
       "<div>\n",
       "<style scoped>\n",
       "    .dataframe tbody tr th:only-of-type {\n",
       "        vertical-align: middle;\n",
       "    }\n",
       "\n",
       "    .dataframe tbody tr th {\n",
       "        vertical-align: top;\n",
       "    }\n",
       "\n",
       "    .dataframe thead th {\n",
       "        text-align: right;\n",
       "    }\n",
       "</style>\n",
       "<table border=\"1\" class=\"dataframe\">\n",
       "  <thead>\n",
       "    <tr style=\"text-align: right;\">\n",
       "      <th></th>\n",
       "      <th>name</th>\n",
       "      <th>urlslug</th>\n",
       "      <th>ID</th>\n",
       "      <th>ALIGN</th>\n",
       "      <th>EYE</th>\n",
       "      <th>HAIR</th>\n",
       "      <th>SEX</th>\n",
       "      <th>GSM</th>\n",
       "      <th>ALIVE</th>\n",
       "      <th>APPEARANCES</th>\n",
       "      <th>FIRST APPEARANCE</th>\n",
       "      <th>YEAR</th>\n",
       "    </tr>\n",
       "    <tr>\n",
       "      <th>page_id</th>\n",
       "      <th></th>\n",
       "      <th></th>\n",
       "      <th></th>\n",
       "      <th></th>\n",
       "      <th></th>\n",
       "      <th></th>\n",
       "      <th></th>\n",
       "      <th></th>\n",
       "      <th></th>\n",
       "      <th></th>\n",
       "      <th></th>\n",
       "      <th></th>\n",
       "    </tr>\n",
       "  </thead>\n",
       "  <tbody>\n",
       "    <tr>\n",
       "      <th>1422</th>\n",
       "      <td>Batman (Bruce Wayne)</td>\n",
       "      <td>\\/wiki\\/Batman_(Bruce_Wayne)</td>\n",
       "      <td>Secret Identity</td>\n",
       "      <td>Good Characters</td>\n",
       "      <td>Blue Eyes</td>\n",
       "      <td>Black Hair</td>\n",
       "      <td>Male Characters</td>\n",
       "      <td>NaN</td>\n",
       "      <td>Living Characters</td>\n",
       "      <td>3093.0</td>\n",
       "      <td>1939, May</td>\n",
       "      <td>1939.0</td>\n",
       "    </tr>\n",
       "    <tr>\n",
       "      <th>23387</th>\n",
       "      <td>Superman (Clark Kent)</td>\n",
       "      <td>\\/wiki\\/Superman_(Clark_Kent)</td>\n",
       "      <td>Secret Identity</td>\n",
       "      <td>Good Characters</td>\n",
       "      <td>Blue Eyes</td>\n",
       "      <td>Black Hair</td>\n",
       "      <td>Male Characters</td>\n",
       "      <td>NaN</td>\n",
       "      <td>Living Characters</td>\n",
       "      <td>2496.0</td>\n",
       "      <td>1986, October</td>\n",
       "      <td>1986.0</td>\n",
       "    </tr>\n",
       "    <tr>\n",
       "      <th>1458</th>\n",
       "      <td>Green Lantern (Hal Jordan)</td>\n",
       "      <td>\\/wiki\\/Green_Lantern_(Hal_Jordan)</td>\n",
       "      <td>Secret Identity</td>\n",
       "      <td>Good Characters</td>\n",
       "      <td>Brown Eyes</td>\n",
       "      <td>Brown Hair</td>\n",
       "      <td>Male Characters</td>\n",
       "      <td>NaN</td>\n",
       "      <td>Living Characters</td>\n",
       "      <td>1565.0</td>\n",
       "      <td>1959, October</td>\n",
       "      <td>1959.0</td>\n",
       "    </tr>\n",
       "    <tr>\n",
       "      <th>1659</th>\n",
       "      <td>James Gordon (New Earth)</td>\n",
       "      <td>\\/wiki\\/James_Gordon_(New_Earth)</td>\n",
       "      <td>Public Identity</td>\n",
       "      <td>Good Characters</td>\n",
       "      <td>Brown Eyes</td>\n",
       "      <td>White Hair</td>\n",
       "      <td>Male Characters</td>\n",
       "      <td>NaN</td>\n",
       "      <td>Living Characters</td>\n",
       "      <td>1316.0</td>\n",
       "      <td>1987, February</td>\n",
       "      <td>1987.0</td>\n",
       "    </tr>\n",
       "    <tr>\n",
       "      <th>1576</th>\n",
       "      <td>Richard Grayson (New Earth)</td>\n",
       "      <td>\\/wiki\\/Richard_Grayson_(New_Earth)</td>\n",
       "      <td>Secret Identity</td>\n",
       "      <td>Good Characters</td>\n",
       "      <td>Blue Eyes</td>\n",
       "      <td>Black Hair</td>\n",
       "      <td>Male Characters</td>\n",
       "      <td>NaN</td>\n",
       "      <td>Living Characters</td>\n",
       "      <td>1237.0</td>\n",
       "      <td>1940, April</td>\n",
       "      <td>1940.0</td>\n",
       "    </tr>\n",
       "    <tr>\n",
       "      <th>...</th>\n",
       "      <td>...</td>\n",
       "      <td>...</td>\n",
       "      <td>...</td>\n",
       "      <td>...</td>\n",
       "      <td>...</td>\n",
       "      <td>...</td>\n",
       "      <td>...</td>\n",
       "      <td>...</td>\n",
       "      <td>...</td>\n",
       "      <td>...</td>\n",
       "      <td>...</td>\n",
       "      <td>...</td>\n",
       "    </tr>\n",
       "    <tr>\n",
       "      <th>66302</th>\n",
       "      <td>Nadine West (New Earth)</td>\n",
       "      <td>\\/wiki\\/Nadine_West_(New_Earth)</td>\n",
       "      <td>Public Identity</td>\n",
       "      <td>Good Characters</td>\n",
       "      <td>NaN</td>\n",
       "      <td>NaN</td>\n",
       "      <td>Female Characters</td>\n",
       "      <td>NaN</td>\n",
       "      <td>Living Characters</td>\n",
       "      <td>NaN</td>\n",
       "      <td>NaN</td>\n",
       "      <td>NaN</td>\n",
       "    </tr>\n",
       "    <tr>\n",
       "      <th>283475</th>\n",
       "      <td>Warren Harding (New Earth)</td>\n",
       "      <td>\\/wiki\\/Warren_Harding_(New_Earth)</td>\n",
       "      <td>Public Identity</td>\n",
       "      <td>Good Characters</td>\n",
       "      <td>NaN</td>\n",
       "      <td>NaN</td>\n",
       "      <td>Male Characters</td>\n",
       "      <td>NaN</td>\n",
       "      <td>Living Characters</td>\n",
       "      <td>NaN</td>\n",
       "      <td>NaN</td>\n",
       "      <td>NaN</td>\n",
       "    </tr>\n",
       "    <tr>\n",
       "      <th>283478</th>\n",
       "      <td>William Harrison (New Earth)</td>\n",
       "      <td>\\/wiki\\/William_Harrison_(New_Earth)</td>\n",
       "      <td>Public Identity</td>\n",
       "      <td>Good Characters</td>\n",
       "      <td>NaN</td>\n",
       "      <td>NaN</td>\n",
       "      <td>Male Characters</td>\n",
       "      <td>NaN</td>\n",
       "      <td>Living Characters</td>\n",
       "      <td>NaN</td>\n",
       "      <td>NaN</td>\n",
       "      <td>NaN</td>\n",
       "    </tr>\n",
       "    <tr>\n",
       "      <th>283471</th>\n",
       "      <td>William McKinley (New Earth)</td>\n",
       "      <td>\\/wiki\\/William_McKinley_(New_Earth)</td>\n",
       "      <td>Public Identity</td>\n",
       "      <td>Good Characters</td>\n",
       "      <td>NaN</td>\n",
       "      <td>NaN</td>\n",
       "      <td>Male Characters</td>\n",
       "      <td>NaN</td>\n",
       "      <td>Living Characters</td>\n",
       "      <td>NaN</td>\n",
       "      <td>NaN</td>\n",
       "      <td>NaN</td>\n",
       "    </tr>\n",
       "    <tr>\n",
       "      <th>150660</th>\n",
       "      <td>Mookie (New Earth)</td>\n",
       "      <td>\\/wiki\\/Mookie_(New_Earth)</td>\n",
       "      <td>Public Identity</td>\n",
       "      <td>Bad Characters</td>\n",
       "      <td>Blue Eyes</td>\n",
       "      <td>Blond Hair</td>\n",
       "      <td>Male Characters</td>\n",
       "      <td>NaN</td>\n",
       "      <td>Living Characters</td>\n",
       "      <td>NaN</td>\n",
       "      <td>NaN</td>\n",
       "      <td>NaN</td>\n",
       "    </tr>\n",
       "  </tbody>\n",
       "</table>\n",
       "<p>6896 rows × 12 columns</p>\n",
       "</div>"
      ],
      "text/plain": [
       "                                 name                               urlslug  \\\n",
       "page_id                                                                       \n",
       "1422             Batman (Bruce Wayne)          \\/wiki\\/Batman_(Bruce_Wayne)   \n",
       "23387           Superman (Clark Kent)         \\/wiki\\/Superman_(Clark_Kent)   \n",
       "1458       Green Lantern (Hal Jordan)    \\/wiki\\/Green_Lantern_(Hal_Jordan)   \n",
       "1659         James Gordon (New Earth)      \\/wiki\\/James_Gordon_(New_Earth)   \n",
       "1576      Richard Grayson (New Earth)   \\/wiki\\/Richard_Grayson_(New_Earth)   \n",
       "...                               ...                                   ...   \n",
       "66302         Nadine West (New Earth)       \\/wiki\\/Nadine_West_(New_Earth)   \n",
       "283475     Warren Harding (New Earth)    \\/wiki\\/Warren_Harding_(New_Earth)   \n",
       "283478   William Harrison (New Earth)  \\/wiki\\/William_Harrison_(New_Earth)   \n",
       "283471   William McKinley (New Earth)  \\/wiki\\/William_McKinley_(New_Earth)   \n",
       "150660             Mookie (New Earth)            \\/wiki\\/Mookie_(New_Earth)   \n",
       "\n",
       "                      ID            ALIGN         EYE        HAIR  \\\n",
       "page_id                                                             \n",
       "1422     Secret Identity  Good Characters   Blue Eyes  Black Hair   \n",
       "23387    Secret Identity  Good Characters   Blue Eyes  Black Hair   \n",
       "1458     Secret Identity  Good Characters  Brown Eyes  Brown Hair   \n",
       "1659     Public Identity  Good Characters  Brown Eyes  White Hair   \n",
       "1576     Secret Identity  Good Characters   Blue Eyes  Black Hair   \n",
       "...                  ...              ...         ...         ...   \n",
       "66302    Public Identity  Good Characters         NaN         NaN   \n",
       "283475   Public Identity  Good Characters         NaN         NaN   \n",
       "283478   Public Identity  Good Characters         NaN         NaN   \n",
       "283471   Public Identity  Good Characters         NaN         NaN   \n",
       "150660   Public Identity   Bad Characters   Blue Eyes  Blond Hair   \n",
       "\n",
       "                       SEX  GSM              ALIVE  APPEARANCES  \\\n",
       "page_id                                                           \n",
       "1422       Male Characters  NaN  Living Characters       3093.0   \n",
       "23387      Male Characters  NaN  Living Characters       2496.0   \n",
       "1458       Male Characters  NaN  Living Characters       1565.0   \n",
       "1659       Male Characters  NaN  Living Characters       1316.0   \n",
       "1576       Male Characters  NaN  Living Characters       1237.0   \n",
       "...                    ...  ...                ...          ...   \n",
       "66302    Female Characters  NaN  Living Characters          NaN   \n",
       "283475     Male Characters  NaN  Living Characters          NaN   \n",
       "283478     Male Characters  NaN  Living Characters          NaN   \n",
       "283471     Male Characters  NaN  Living Characters          NaN   \n",
       "150660     Male Characters  NaN  Living Characters          NaN   \n",
       "\n",
       "        FIRST APPEARANCE    YEAR  \n",
       "page_id                           \n",
       "1422           1939, May  1939.0  \n",
       "23387      1986, October  1986.0  \n",
       "1458       1959, October  1959.0  \n",
       "1659      1987, February  1987.0  \n",
       "1576         1940, April  1940.0  \n",
       "...                  ...     ...  \n",
       "66302                NaN     NaN  \n",
       "283475               NaN     NaN  \n",
       "283478               NaN     NaN  \n",
       "283471               NaN     NaN  \n",
       "150660               NaN     NaN  \n",
       "\n",
       "[6896 rows x 12 columns]"
      ]
     },
     "execution_count": 100,
     "metadata": {},
     "output_type": "execute_result"
    }
   ],
   "source": [
    "comic = pd.read_csv('dc-wikia-data.csv', index_col = 'page_id')\n",
    "comic"
   ]
  },
  {
   "cell_type": "code",
   "execution_count": 57,
   "id": "92d00782",
   "metadata": {},
   "outputs": [
    {
     "name": "stdout",
     "output_type": "stream",
     "text": [
      "<class 'pandas.core.frame.DataFrame'>\n",
      "RangeIndex: 6896 entries, 0 to 6895\n",
      "Data columns (total 13 columns):\n",
      " #   Column            Non-Null Count  Dtype  \n",
      "---  ------            --------------  -----  \n",
      " 0   page_id           6896 non-null   int64  \n",
      " 1   name              6896 non-null   object \n",
      " 2   urlslug           6896 non-null   object \n",
      " 3   ID                4883 non-null   object \n",
      " 4   ALIGN             6295 non-null   object \n",
      " 5   EYE               3268 non-null   object \n",
      " 6   HAIR              4622 non-null   object \n",
      " 7   SEX               6771 non-null   object \n",
      " 8   GSM               64 non-null     object \n",
      " 9   ALIVE             6893 non-null   object \n",
      " 10  APPEARANCES       6541 non-null   float64\n",
      " 11  FIRST APPEARANCE  6827 non-null   object \n",
      " 12  YEAR              6827 non-null   float64\n",
      "dtypes: float64(2), int64(1), object(10)\n",
      "memory usage: 431.1+ KB\n"
     ]
    }
   ],
   "source": [
    "#checking the data types using the info function\n",
    "comic.info()"
   ]
  },
  {
   "cell_type": "code",
   "execution_count": 58,
   "id": "793cb568",
   "metadata": {},
   "outputs": [
    {
     "data": {
      "text/plain": [
       "page_id                0\n",
       "name                   0\n",
       "urlslug                0\n",
       "ID                  2013\n",
       "ALIGN                601\n",
       "EYE                 3628\n",
       "HAIR                2274\n",
       "SEX                  125\n",
       "GSM                 6832\n",
       "ALIVE                  3\n",
       "APPEARANCES          355\n",
       "FIRST APPEARANCE      69\n",
       "YEAR                  69\n",
       "dtype: int64"
      ]
     },
     "execution_count": 58,
     "metadata": {},
     "output_type": "execute_result"
    }
   ],
   "source": [
    "# to check for missing values\n",
    "comic.isnull().sum()"
   ]
  },
  {
   "cell_type": "code",
   "execution_count": 97,
   "id": "a0be0950",
   "metadata": {},
   "outputs": [],
   "source": [
    "# the column GSM has 6832 null values. The amount of null values would not ensure i get accurate results or visualiztion\n",
    "# and for this reason, the column would be removed.\n",
    "comic.drop(columns='GSM', inplace=True)"
   ]
  },
  {
   "cell_type": "code",
   "execution_count": 98,
   "id": "c939720f",
   "metadata": {},
   "outputs": [
    {
     "data": {
      "text/plain": [
       "Index(['name', 'urlslug', 'ID', 'ALIGN', 'EYE', 'HAIR', 'SEX', 'ALIVE',\n",
       "       'APPEARANCES', 'FIRST APPEARANCE', 'YEAR'],\n",
       "      dtype='object')"
      ]
     },
     "execution_count": 98,
     "metadata": {},
     "output_type": "execute_result"
    }
   ],
   "source": [
    "comic.columns"
   ]
  },
  {
   "cell_type": "code",
   "execution_count": 61,
   "id": "525e4269",
   "metadata": {},
   "outputs": [
    {
     "data": {
      "text/plain": [
       "0       Good Characters\n",
       "1       Good Characters\n",
       "2       Good Characters\n",
       "3       Good Characters\n",
       "4       Good Characters\n",
       "             ...       \n",
       "6891    Good Characters\n",
       "6892    Good Characters\n",
       "6893    Good Characters\n",
       "6894    Good Characters\n",
       "6895     Bad Characters\n",
       "Name: ALIGN, Length: 6896, dtype: object"
      ]
     },
     "execution_count": 61,
     "metadata": {},
     "output_type": "execute_result"
    }
   ],
   "source": [
    "# select the align column\n",
    "comic.ALIGN"
   ]
  },
  {
   "cell_type": "code",
   "execution_count": 62,
   "id": "25acc7d0",
   "metadata": {},
   "outputs": [
    {
     "data": {
      "text/plain": [
       "nan"
      ]
     },
     "execution_count": 62,
     "metadata": {},
     "output_type": "execute_result"
    }
   ],
   "source": [
    "# select the index of 601\n",
    "comic.ALIGN.iloc[601]"
   ]
  },
  {
   "cell_type": "code",
   "execution_count": 63,
   "id": "9a405e0a",
   "metadata": {},
   "outputs": [],
   "source": [
    "# replace the NaN values of ALIGN with unknown\n",
    "comic.fillna(value={\"ALIGN\": \"Unknown\"},inplace =True)"
   ]
  },
  {
   "cell_type": "code",
   "execution_count": 64,
   "id": "cdaf97ca",
   "metadata": {},
   "outputs": [
    {
     "data": {
      "text/plain": [
       "'Unknown'"
      ]
     },
     "execution_count": 64,
     "metadata": {},
     "output_type": "execute_result"
    }
   ],
   "source": [
    "comic.ALIGN.iloc[601]"
   ]
  },
  {
   "cell_type": "code",
   "execution_count": 65,
   "id": "627bd3fd",
   "metadata": {},
   "outputs": [],
   "source": [
    "#replace the NaN values of ID with unknown id\n",
    "comic.fillna(value={\"ID\": \"Unknown ID\"},inplace =True)"
   ]
  },
  {
   "cell_type": "code",
   "execution_count": 66,
   "id": "e361ed87",
   "metadata": {},
   "outputs": [
    {
     "data": {
      "text/plain": [
       "'Unknown ID'"
      ]
     },
     "execution_count": 66,
     "metadata": {},
     "output_type": "execute_result"
    }
   ],
   "source": [
    "comic.ID.iloc[2013]"
   ]
  },
  {
   "cell_type": "code",
   "execution_count": 67,
   "id": "beb72461",
   "metadata": {},
   "outputs": [
    {
     "data": {
      "text/plain": [
       "0        Blue Eyes\n",
       "1        Blue Eyes\n",
       "2       Brown Eyes\n",
       "3       Brown Eyes\n",
       "4        Blue Eyes\n",
       "           ...    \n",
       "6891           NaN\n",
       "6892           NaN\n",
       "6893           NaN\n",
       "6894           NaN\n",
       "6895     Blue Eyes\n",
       "Name: EYE, Length: 6896, dtype: object"
      ]
     },
     "execution_count": 67,
     "metadata": {},
     "output_type": "execute_result"
    }
   ],
   "source": [
    "comic.EYE"
   ]
  },
  {
   "cell_type": "code",
   "execution_count": 68,
   "id": "642a735e",
   "metadata": {},
   "outputs": [],
   "source": [
    "# replace the NaN values of EYE column with unknown eye colour\n",
    "comic.fillna(value={\"EYE\": \"Unknown eye colour\"},inplace =True)"
   ]
  },
  {
   "cell_type": "code",
   "execution_count": 69,
   "id": "c6cc9bc0",
   "metadata": {},
   "outputs": [
    {
     "data": {
      "text/plain": [
       "'Unknown eye colour'"
      ]
     },
     "execution_count": 69,
     "metadata": {},
     "output_type": "execute_result"
    }
   ],
   "source": [
    "comic.EYE.iloc[6891]"
   ]
  },
  {
   "cell_type": "code",
   "execution_count": 70,
   "id": "189d985e",
   "metadata": {},
   "outputs": [
    {
     "data": {
      "text/plain": [
       "0       Black Hair\n",
       "1       Black Hair\n",
       "2       Brown Hair\n",
       "3       White Hair\n",
       "4       Black Hair\n",
       "           ...    \n",
       "6891           NaN\n",
       "6892           NaN\n",
       "6893           NaN\n",
       "6894           NaN\n",
       "6895    Blond Hair\n",
       "Name: HAIR, Length: 6896, dtype: object"
      ]
     },
     "execution_count": 70,
     "metadata": {},
     "output_type": "execute_result"
    }
   ],
   "source": [
    "comic.HAIR"
   ]
  },
  {
   "cell_type": "code",
   "execution_count": 71,
   "id": "c831cfd6",
   "metadata": {},
   "outputs": [],
   "source": [
    "# Replace the Nan values with unknown hair colour\n",
    "comic.fillna(value={\"HAIR\": \"Unknown hair colour\"},inplace =True)"
   ]
  },
  {
   "cell_type": "code",
   "execution_count": 72,
   "id": "4d74221f",
   "metadata": {},
   "outputs": [
    {
     "data": {
      "text/plain": [
       "'Unknown hair colour'"
      ]
     },
     "execution_count": 72,
     "metadata": {},
     "output_type": "execute_result"
    }
   ],
   "source": [
    "comic.HAIR.iloc[6891]"
   ]
  },
  {
   "cell_type": "code",
   "execution_count": 73,
   "id": "ef2b654b",
   "metadata": {},
   "outputs": [],
   "source": [
    "# Replace the Nan values of sex column with unknown sex\n",
    "comic.fillna(value={\"SEX\": \"Unknown sex\"},inplace =True)"
   ]
  },
  {
   "cell_type": "code",
   "execution_count": 74,
   "id": "49309548",
   "metadata": {},
   "outputs": [
    {
     "data": {
      "text/plain": [
       "0"
      ]
     },
     "execution_count": 74,
     "metadata": {},
     "output_type": "execute_result"
    }
   ],
   "source": [
    "# check if there are still null values\n",
    "comic.SEX.isnull().sum()"
   ]
  },
  {
   "cell_type": "code",
   "execution_count": 75,
   "id": "ee2a2049",
   "metadata": {},
   "outputs": [],
   "source": [
    "# Replace the Nan values of alive column with deceased characters\n",
    "comic.fillna(value={\"ALIVE\": \"Deceased characters\"},inplace =True)\n"
   ]
  },
  {
   "cell_type": "code",
   "execution_count": 76,
   "id": "a944b0db",
   "metadata": {},
   "outputs": [
    {
     "data": {
      "text/plain": [
       "0"
      ]
     },
     "execution_count": 76,
     "metadata": {},
     "output_type": "execute_result"
    }
   ],
   "source": [
    "# To check if there are still null values in the alive column\n",
    "comic.ALIVE.isnull().sum()"
   ]
  },
  {
   "cell_type": "code",
   "execution_count": 77,
   "id": "441234f9",
   "metadata": {},
   "outputs": [
    {
     "data": {
      "text/plain": [
       "0       3093.0\n",
       "1       2496.0\n",
       "2       1565.0\n",
       "3       1316.0\n",
       "4       1237.0\n",
       "         ...  \n",
       "6891       NaN\n",
       "6892       NaN\n",
       "6893       NaN\n",
       "6894       NaN\n",
       "6895       NaN\n",
       "Name: APPEARANCES, Length: 6896, dtype: float64"
      ]
     },
     "execution_count": 77,
     "metadata": {},
     "output_type": "execute_result"
    }
   ],
   "source": [
    "# select the appearance column\n",
    "comic.APPEARANCES"
   ]
  },
  {
   "cell_type": "code",
   "execution_count": 78,
   "id": "e631bdac",
   "metadata": {},
   "outputs": [
    {
     "data": {
      "text/plain": [
       "Int64Index([6541, 6542, 6543, 6544, 6545, 6546, 6547, 6548, 6549, 6550,\n",
       "            ...\n",
       "            6886, 6887, 6888, 6889, 6890, 6891, 6892, 6893, 6894, 6895],\n",
       "           dtype='int64', length=355)"
      ]
     },
     "execution_count": 78,
     "metadata": {},
     "output_type": "execute_result"
    }
   ],
   "source": [
    "p=comic.loc[comic['APPEARANCES'].isnull()]\n",
    "p.index"
   ]
  },
  {
   "cell_type": "code",
   "execution_count": 79,
   "id": "38edc875",
   "metadata": {},
   "outputs": [],
   "source": [
    "# Replace the Nan values of apperances column with unknown\n",
    "comic.fillna(value={\"APPEARANCES\": \"Unknown\"},inplace =True)\n"
   ]
  },
  {
   "cell_type": "code",
   "execution_count": 80,
   "id": "b6a5793e",
   "metadata": {},
   "outputs": [
    {
     "data": {
      "text/plain": [
       "'Unknown'"
      ]
     },
     "execution_count": 80,
     "metadata": {},
     "output_type": "execute_result"
    }
   ],
   "source": [
    "comic.APPEARANCES.iloc[6895]"
   ]
  },
  {
   "cell_type": "code",
   "execution_count": 81,
   "id": "f012ec43",
   "metadata": {},
   "outputs": [
    {
     "data": {
      "text/plain": [
       "0            1939, May\n",
       "1        1986, October\n",
       "2        1959, October\n",
       "3       1987, February\n",
       "4          1940, April\n",
       "             ...      \n",
       "6891               NaN\n",
       "6892               NaN\n",
       "6893               NaN\n",
       "6894               NaN\n",
       "6895               NaN\n",
       "Name: FIRST APPEARANCE, Length: 6896, dtype: object"
      ]
     },
     "execution_count": 81,
     "metadata": {},
     "output_type": "execute_result"
    }
   ],
   "source": [
    "comic['FIRST APPEARANCE']"
   ]
  },
  {
   "cell_type": "code",
   "execution_count": 82,
   "id": "3d2ec1f8",
   "metadata": {},
   "outputs": [],
   "source": [
    "# Replace the Nan values of 'first apperance' column with unknown\n",
    "comic.fillna(value={\"FIRST APPEARANCE\": \"Unknown\"},inplace =True)\n"
   ]
  },
  {
   "cell_type": "code",
   "execution_count": 83,
   "id": "f469f1db",
   "metadata": {},
   "outputs": [],
   "source": [
    "from datetime import datetime\n",
    "import dateutil.parser"
   ]
  },
  {
   "cell_type": "code",
   "execution_count": 85,
   "id": "f5025ffe",
   "metadata": {},
   "outputs": [
    {
     "data": {
      "text/plain": [
       "dtype('O')"
      ]
     },
     "execution_count": 85,
     "metadata": {},
     "output_type": "execute_result"
    }
   ],
   "source": [
    "comic['FIRST APPEARANCE'].dtype"
   ]
  },
  {
   "cell_type": "code",
   "execution_count": 86,
   "id": "968a3f7d",
   "metadata": {},
   "outputs": [
    {
     "data": {
      "text/html": [
       "<div>\n",
       "<style scoped>\n",
       "    .dataframe tbody tr th:only-of-type {\n",
       "        vertical-align: middle;\n",
       "    }\n",
       "\n",
       "    .dataframe tbody tr th {\n",
       "        vertical-align: top;\n",
       "    }\n",
       "\n",
       "    .dataframe thead th {\n",
       "        text-align: right;\n",
       "    }\n",
       "</style>\n",
       "<table border=\"1\" class=\"dataframe\">\n",
       "  <thead>\n",
       "    <tr style=\"text-align: right;\">\n",
       "      <th></th>\n",
       "      <th>page_id</th>\n",
       "      <th>name</th>\n",
       "      <th>urlslug</th>\n",
       "      <th>ID</th>\n",
       "      <th>ALIGN</th>\n",
       "      <th>EYE</th>\n",
       "      <th>HAIR</th>\n",
       "      <th>SEX</th>\n",
       "      <th>ALIVE</th>\n",
       "      <th>APPEARANCES</th>\n",
       "      <th>FIRST APPEARANCE</th>\n",
       "      <th>YEAR</th>\n",
       "    </tr>\n",
       "  </thead>\n",
       "  <tbody>\n",
       "    <tr>\n",
       "      <th>4179</th>\n",
       "      <td>4728</td>\n",
       "      <td>Fidel Castro (New Earth)</td>\n",
       "      <td>\\/wiki\\/Fidel_Castro_(New_Earth)</td>\n",
       "      <td>Unknown ID</td>\n",
       "      <td>Unknown</td>\n",
       "      <td>Unknown eye colour</td>\n",
       "      <td>Unknown hair colour</td>\n",
       "      <td>Male Characters</td>\n",
       "      <td>Living Characters</td>\n",
       "      <td>4.0</td>\n",
       "      <td>1988, Holiday</td>\n",
       "      <td>1988.0</td>\n",
       "    </tr>\n",
       "    <tr>\n",
       "      <th>5346</th>\n",
       "      <td>4935</td>\n",
       "      <td>Sally Milton (New Earth)</td>\n",
       "      <td>\\/wiki\\/Sally_Milton_(New_Earth)</td>\n",
       "      <td>Public Identity</td>\n",
       "      <td>Unknown</td>\n",
       "      <td>Auburn Hair</td>\n",
       "      <td>Unknown hair colour</td>\n",
       "      <td>Female Characters</td>\n",
       "      <td>Living Characters</td>\n",
       "      <td>2.0</td>\n",
       "      <td>1988, Holiday</td>\n",
       "      <td>1988.0</td>\n",
       "    </tr>\n",
       "  </tbody>\n",
       "</table>\n",
       "</div>"
      ],
      "text/plain": [
       "      page_id                      name                           urlslug  \\\n",
       "4179     4728  Fidel Castro (New Earth)  \\/wiki\\/Fidel_Castro_(New_Earth)   \n",
       "5346     4935  Sally Milton (New Earth)  \\/wiki\\/Sally_Milton_(New_Earth)   \n",
       "\n",
       "                   ID    ALIGN                 EYE                 HAIR  \\\n",
       "4179       Unknown ID  Unknown  Unknown eye colour  Unknown hair colour   \n",
       "5346  Public Identity  Unknown         Auburn Hair  Unknown hair colour   \n",
       "\n",
       "                    SEX              ALIVE APPEARANCES FIRST APPEARANCE  \\\n",
       "4179    Male Characters  Living Characters         4.0    1988, Holiday   \n",
       "5346  Female Characters  Living Characters         2.0    1988, Holiday   \n",
       "\n",
       "        YEAR  \n",
       "4179  1988.0  \n",
       "5346  1988.0  "
      ]
     },
     "execution_count": 86,
     "metadata": {},
     "output_type": "execute_result"
    }
   ],
   "source": [
    "# some rows in 'FIRST APPEARANCE' column have unknown datatype, which results in error while trying to convert to datetime\n",
    "invalid_row = comic.loc[comic['FIRST APPEARANCE'] == '1988, Holiday']\n",
    "invalid_row"
   ]
  },
  {
   "cell_type": "code",
   "execution_count": 92,
   "id": "d4d39114",
   "metadata": {},
   "outputs": [],
   "source": [
    "# to delete the rows\n",
    "comic.drop([4728,4935], inplace = True)"
   ]
  },
  {
   "cell_type": "code",
   "execution_count": 93,
   "id": "4512a31d",
   "metadata": {},
   "outputs": [
    {
     "data": {
      "text/plain": [
       "'1986'"
      ]
     },
     "execution_count": 93,
     "metadata": {},
     "output_type": "execute_result"
    }
   ],
   "source": [
    "#comic['FIRST APPEARANCE'].iloc[4728]"
   ]
  },
  {
   "cell_type": "code",
   "execution_count": 95,
   "id": "b55548eb",
   "metadata": {},
   "outputs": [],
   "source": [
    "time_date = 'FIRST APPEARANCE'\n",
    "comic[time_date] = pd.to_datetime(comic[time_date])"
   ]
  },
  {
   "cell_type": "code",
   "execution_count": 99,
   "id": "a8b43a38",
   "metadata": {},
   "outputs": [
    {
     "name": "stdout",
     "output_type": "stream",
     "text": [
      "<class 'pandas.core.frame.DataFrame'>\n",
      "Int64Index: 6894 entries, 1422 to 150660\n",
      "Data columns (total 11 columns):\n",
      " #   Column            Non-Null Count  Dtype         \n",
      "---  ------            --------------  -----         \n",
      " 0   name              6894 non-null   object        \n",
      " 1   urlslug           6894 non-null   object        \n",
      " 2   ID                4882 non-null   object        \n",
      " 3   ALIGN             6295 non-null   object        \n",
      " 4   EYE               3267 non-null   object        \n",
      " 5   HAIR              4622 non-null   object        \n",
      " 6   SEX               6769 non-null   object        \n",
      " 7   ALIVE             6891 non-null   object        \n",
      " 8   APPEARANCES       6539 non-null   float64       \n",
      " 9   FIRST APPEARANCE  6825 non-null   datetime64[ns]\n",
      " 10  YEAR              6825 non-null   float64       \n",
      "dtypes: datetime64[ns](1), float64(2), object(8)\n",
      "memory usage: 430.9+ KB\n"
     ]
    }
   ],
   "source": [
    "comic.info()"
   ]
  },
  {
   "cell_type": "code",
   "execution_count": 101,
   "id": "d518c8ca",
   "metadata": {},
   "outputs": [
    {
     "data": {
      "text/plain": [
       "<AxesSubplot:xlabel='APPEARANCES', ylabel='SEX'>"
      ]
     },
     "execution_count": 101,
     "metadata": {},
     "output_type": "execute_result"
    },
    {
     "data": {
      "image/png": "[encoded data removed]",
      "text/plain": [
       "<Figure size 432x288 with 1 Axes>"
      ]
     },
     "metadata": {
      "needs_background": "light"
     },
     "output_type": "display_data"
    }
   ],
   "source": [
    "# to visualize using bar plot.\n",
    "# to check which sex of characters appeared the most\n",
    "sns.barplot(x='APPEARANCES',y = 'SEX', data= comic)\n",
    "\n"
   ]
  },
  {
   "cell_type": "code",
   "execution_count": 122,
   "id": "1152e5ba",
   "metadata": {},
   "outputs": [
    {
     "data": {
      "image/png": "[encoded data removed]",
      "text/plain": [
       "<Figure size 432x288 with 1 Axes>"
      ]
     },
     "metadata": {
      "needs_background": "light"
     },
     "output_type": "display_data"
    }
   ],
   "source": [
    "# which eye colour appeared the most?\n",
    "eye_ = sns.barplot(y='APPEARANCES', x= 'EYE', data = comic)\n",
    "eye_.set(title ='The eye colour that appeared most')\n",
    "eye_.set_xticklabels(eye_.get_xticklabels(), rotation = -90);"
   ]
  },
  {
   "cell_type": "code",
   "execution_count": 114,
   "id": "6f118d99",
   "metadata": {},
   "outputs": [
    {
     "data": {
      "text/plain": [
       "[Text(0.5, 1.0, 'Comparison of the Living Characters and the Deceased Characters')]"
      ]
     },
     "execution_count": 114,
     "metadata": {},
     "output_type": "execute_result"
    },
    {
     "data": {
      "image/png": "[encoded data removed]",
      "text/plain": [
       "<Figure size 432x288 with 1 Axes>"
      ]
     },
     "metadata": {
      "needs_background": "light"
     },
     "output_type": "display_data"
    }
   ],
   "source": [
    "# the difference between living and deceased characters \n",
    "diff = sns.barplot(x='APPEARANCES', y= 'ALIVE', data = comic)\n",
    "diff.set(title ='Comparison of the Living Characters and the Deceased Characters')"
   ]
  },
  {
   "cell_type": "code",
   "execution_count": 123,
   "id": "65ce5526",
   "metadata": {},
   "outputs": [
    {
     "data": {
      "image/png": "[encoded data removed]",
      "text/plain": [
       "<Figure size 1800x360 with 1 Axes>"
      ]
     },
     "metadata": {
      "needs_background": "light"
     },
     "output_type": "display_data"
    }
   ],
   "source": [
    "fig = plt.figure(figsize = (25, 5))\n",
    " \n",
    "# the hair colour that appeared the most in relation to the sex of the characters\n",
    "sns.barplot(x = 'HAIR',y = 'APPEARANCES',hue='SEX',data = comic)\n",
    "plt.title=('Hair and Appearances')"
   ]
  },
  {
   "cell_type": "code",
   "execution_count": null,
   "id": "8e9e0bd3",
   "metadata": {},
   "outputs": [],
   "source": []
  }
 ],
 "metadata": {
  "kernelspec": {
   "display_name": "Python 3 (ipykernel)",
   "language": "python",
   "name": "python3"
  },
  "language_info": {
   "codemirror_mode": {
    "name": "ipython",
    "version": 3
   },
   "file_extension": ".py",
   "mimetype": "text/x-python",
   "name": "python",
   "nbconvert_exporter": "python",
   "pygments_lexer": "ipython3",
   "version": "3.9.12"
  }
 },
 "nbformat": 4,
 "nbformat_minor": 5
}
